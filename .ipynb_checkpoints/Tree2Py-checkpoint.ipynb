{
 "cells": [
  {
   "cell_type": "code",
   "execution_count": 1,
   "metadata": {
    "ExecuteTime": {
     "end_time": "2020-03-19T19:24:51.568708Z",
     "start_time": "2020-03-19T19:24:51.557716Z"
    }
   },
   "outputs": [],
   "source": [
    "def splitWithOperation(line):\n",
    "    '''\n",
    "    params : str\n",
    "        example : Relative Humidity <= 15.23: VeryGood (500.0)\n",
    "    returns : list(str)\n",
    "        example ['Relative Humidity','<=','15.23: VeryGood (500.0)']\n",
    "    '''\n",
    "    if '<=' in line:\n",
    "        return [line.split('<=')[0]]+['<='] + [line.split('<=')[1]]\n",
    "    elif '>=' in line:\n",
    "        return [line.split('>=')[0]] + ['>='] +[line.split('>=')[1]]\n",
    "    elif '>' in line:\n",
    "        return [line.split('>')[0]] + ['>'] + [line.split('>')[1]]\n",
    "    elif '<' in line:\n",
    "        return [line.split('<')[0]] + ['<'] + [line.split('<')[1]]\n",
    "    return [line.split('=')[0]] + ['=='] + [line.split('=')[1]]\n",
    "\n",
    "def getType(data):\n",
    "    '''\n",
    "    params : str\n",
    "        example : '3.65'\n",
    "    returns : type\n",
    "        example : float\n",
    "    '''\n",
    "    try:\n",
    "        float(data)\n",
    "    except:\n",
    "        return str\n",
    "    return float"
   ]
  },
  {
   "cell_type": "code",
   "execution_count": null,
   "metadata": {},
   "outputs": [],
   "source": [
    "filename = \"tree.txt\" \n",
    "'''\n",
    "file tree from weka example:\n",
    "Air Pressure <= 662.5\n",
    "|   Relative Humidity <= 15.23: VeryGood (500.0)\n",
    "|   Relative Humidity > 15.23\n",
    "|   |   Hour <= 17\n",
    "|   |   |   Temperature <= 6.92\n",
    "|   |   |   |   Month = January: Moderate (0.0)\n",
    "|   |   |   |   Month = February: Moderate (0.0)\n",
    "|   |   |   |   Month = March: Moderate (0.0)\n",
    "|   |   |   |   Month = April\n",
    "|   |   |   |   |   Hour <= 9: UnhealthyForSensitive (3.0/1.0)\n",
    "|   |   |   |   |   Hour > 9: Moderate (7.0)\n",
    "|   |   |   |   Month = May: Moderate (0.0)\n",
    "'''\n",
    "fileout = 'tree2py.py' #is program name"
   ]
  },
  {
   "cell_type": "code",
   "execution_count": null,
   "metadata": {},
   "outputs": [],
   "source": [
    "#read file tree form weka\n",
    "with open(filename,'r') as file:\n",
    "    tree = file.readlines()\n",
    "    tree = [l.strip() for l in tree]\n",
    "    \n",
    "infunc = [] #line in function tree2function\n",
    "varS = [] #all variable\n",
    "typeS = dict() #all variable and type, typeS[var] = type\n",
    "\n",
    "for line in tree:\n",
    "    lineSep = splitWithOperation(line)\n",
    "    countTab = lineSep[0].count('|') + 1\n",
    "    var = lineSep[0].replace('|','').strip().replace(' ','_')\n",
    "    varS.append(var) \n",
    "    \n",
    "    #is End if ***Answer\n",
    "    if ':' in lineSep[2]:\n",
    "        newLine = '\\n{}return \"{}\"'.format('\\t'*(countTab+1),lineSep[2].split(':')[1].strip().split(' (')[0])\n",
    "        value = lineSep[2].split(':')[0]\n",
    "    else:\n",
    "        value = lineSep[2]\n",
    "        newLine = ''\n",
    "    typeS[var] = getType(value)\n",
    "    if typeS[var].__name__ == 'str':\n",
    "        value = '\"{}\"'.format(value.strip())\n",
    "    \n",
    "    lineCode = '{}if {} {} {}:{}'.format('\\t'*countTab,var,lineSep[1],value,newLine)\n",
    "    infunc.append(lineCode)\n",
    "    \n",
    "varS = sorted(list(set(varS)))\n",
    "\n",
    "heads = []\n",
    "for v in varS:\n",
    "    heads.append('{} = {}(input(\"Enter {} : \"))'.format(v,typeS[v].__name__,v))\n",
    "heads.append('def treeFunc({}):'.format(','.join(varS)))\n",
    "\n",
    "call = []\n",
    "call.append('Answer = treeFunc({})'.format(','.join(varS)))\n",
    "call.append('print(\"Answer is\",Answer)')\n",
    "\n",
    "#concate heads, infunc, callfunc\n",
    "program = heads + infunc + call\n",
    "\n",
    "#write program file.py with filename : fileout\n",
    "with open(fileout,'w',encoding='utf-8') as file:\n",
    "    file.write('\\n'.join(program))"
   ]
  }
 ],
 "metadata": {
  "kernelspec": {
   "display_name": "Python 3",
   "language": "python",
   "name": "python3"
  },
  "language_info": {
   "codemirror_mode": {
    "name": "ipython",
    "version": 3
   },
   "file_extension": ".py",
   "mimetype": "text/x-python",
   "name": "python",
   "nbconvert_exporter": "python",
   "pygments_lexer": "ipython3",
   "version": "3.6.7"
  },
  "latex_envs": {
   "LaTeX_envs_menu_present": true,
   "autoclose": false,
   "autocomplete": true,
   "bibliofile": "biblio.bib",
   "cite_by": "apalike",
   "current_citInitial": 1,
   "eqLabelWithNumbers": true,
   "eqNumInitial": 1,
   "hotkeys": {
    "equation": "Ctrl-E",
    "itemize": "Ctrl-I"
   },
   "labels_anchors": false,
   "latex_user_defs": false,
   "report_style_numbering": false,
   "user_envs_cfg": false
  }
 },
 "nbformat": 4,
 "nbformat_minor": 2
}
